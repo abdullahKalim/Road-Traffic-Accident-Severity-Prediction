{
 "cells": [
  {
   "cell_type": "code",
   "execution_count": 2,
   "id": "207eb157",
   "metadata": {},
   "outputs": [],
   "source": [
    "import streamlit as st\n",
    "import pandas as pd\n",
    "import numpy as np\n",
    "import joblib as jb\n",
    "from prediction import *"
   ]
  },
  {
   "cell_type": "code",
   "execution_count": 3,
   "id": "c3c526d9",
   "metadata": {},
   "outputs": [],
   "source": [
    "model=jb.load(r'C:\\\\Users\\\\hp\\\\Documents\\\\MGP Projects\\\\RTA\\\\Model\\\\model.pkl')"
   ]
  },
  {
   "cell_type": "code",
   "execution_count": 4,
   "id": "e7244930",
   "metadata": {},
   "outputs": [],
   "source": [
    "st.set_page_config(page_title='Accident Severity Prediction',layout='wide')"
   ]
  },
  {
   "cell_type": "code",
   "execution_count": 5,
   "id": "d396496b",
   "metadata": {},
   "outputs": [],
   "source": [
    "#options\n",
    "columns=[\"vehicles_involved\",\"casualties\",\"light_condition\",\"driver_age\",\"day_of_week\",\"road_surface_conditions\",\"junction_type\",\"driving_experience\"]\n",
    "cat_col=[\"light_condition\",\"driver_age\",\"day_of_week\",\"road_surface_conditions\",\"junction_type\",\"driving_experience\"]\n",
    "days=[\"Monday\",\"Tuesday\",\"Wednesday\",\"Thursday\",\"Friday\",\"Saturday\",\"Sunday\"]\n",
    "age=[\"18-30\",'31-50','Over 51',\"Unknown\",\"Under 18\"]\n",
    "driver_exp=[\"5-10yr\",\"2-5yr\",\"Above 10yr\",\"1-2yr\",'Below 1yr',\"No License\",\"Unknown\"]\n",
    "light=[\"Daylight\",\"Darkness-light lit\",\"Darkness-no light\",\"Darkness- lights unlit\"]\n",
    "vehicle_inv=20\n",
    "casualties=20\n",
    "road=[\"Dry\",\"Wet or damp\",\"Snow\",\"Flood over 3cm deep\"]\n",
    "junction=[\"Y shape\",\"No Junction\",\"Crossing\",\"Other\",\"Unknown\",\"O shape\",\"T shape\",\"X shape\"]"
   ]
  },
  {
   "cell_type": "code",
   "execution_count": 7,
   "id": "581de4db",
   "metadata": {},
   "outputs": [
    {
     "name": "stderr",
     "output_type": "stream",
     "text": [
      "2022-07-27 22:44:12.179 \n",
      "  \u001b[33m\u001b[1mWarning:\u001b[0m to view this Streamlit app on a browser, run it with the following\n",
      "  command:\n",
      "\n",
      "    streamlit run C:\\Users\\hp\\anaconda3\\lib\\site-packages\\ipykernel_launcher.py [ARGUMENTS]\n"
     ]
    },
    {
     "data": {
      "text/plain": [
       "DeltaGenerator(_root_container=0, _provided_cursor=None, _parent=None, _block_type=None, _form_data=None)"
      ]
     },
     "execution_count": 7,
     "metadata": {},
     "output_type": "execute_result"
    }
   ],
   "source": [
    "st.markdown(\"<h1 style='text-align: center;'>Accident Severity Prediction App 🚧</h1>\", unsafe_allow_html=True)"
   ]
  },
  {
   "cell_type": "code",
   "execution_count": 13,
   "id": "1a2ce149",
   "metadata": {},
   "outputs": [],
   "source": [
    "def main():\n",
    "    with st.form('prediction form'):\n",
    "        st.subheader(\"Enter the following features\")\n",
    "        v_inv=st.slider(\"Vehicle Involved: \",0,vehicle_inv,value=0,format=\"%d\")\n",
    "        cas=st.slider(\"Number of Casualties :\",0,20,value=0,format=\"%d\")\n",
    "        light_con=st.selectbox(\"Lightning Condiions: \",options=light)\n",
    "        driver_age=st.selectbox(\"Driver Age: \",options=age)\n",
    "        day=st.selectbox(\"Day of the Week: \",options=days)\n",
    "        road_cond=st.selectbox(\"Road Surface Condition: \",options=road)\n",
    "        junc=st.selectbox(\"Junction Type: \",options=junction)\n",
    "        exp=st.selectbox(\"Driver Experience: \",options=driver_exp)\n",
    "        submit=st.form_submit_button(\"Predict\")\n",
    "        \n",
    "        if submit:\n",
    "            df=pd.DataFrame([v_inv,cas,light,driver_age,day,road_cond,junc,exp],columms=columns)\n",
    "            df[cat_col]=ordinal_encoder(df,cat_col)\n",
    "            data=np.array(df).reshape(1,-1)\n",
    "            pred=predict(df,model)\n",
    "            st.write(f\"The predicted severity is:  {pred[0]}\")\n",
    "            \n",
    "                                     "
   ]
  },
  {
   "cell_type": "code",
   "execution_count": 14,
   "id": "7f25305a",
   "metadata": {},
   "outputs": [],
   "source": [
    "if __name__ == '__main__':\n",
    "    main()"
   ]
  },
  {
   "cell_type": "code",
   "execution_count": null,
   "id": "df543cdd",
   "metadata": {},
   "outputs": [],
   "source": []
  }
 ],
 "metadata": {
  "kernelspec": {
   "display_name": "Python 3",
   "language": "python",
   "name": "python3"
  },
  "language_info": {
   "codemirror_mode": {
    "name": "ipython",
    "version": 3
   },
   "file_extension": ".py",
   "mimetype": "text/x-python",
   "name": "python",
   "nbconvert_exporter": "python",
   "pygments_lexer": "ipython3",
   "version": "3.8.8"
  }
 },
 "nbformat": 4,
 "nbformat_minor": 5
}
